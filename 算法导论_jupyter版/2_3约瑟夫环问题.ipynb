{
 "cells": [
  {
   "cell_type": "code",
   "execution_count": 1,
   "metadata": {
    "ExecuteTime": {
     "end_time": "2020-03-14T15:12:48.503752Z",
     "start_time": "2020-03-14T15:12:46.903539Z"
    }
   },
   "outputs": [
    {
     "name": "stdout",
     "output_type": "stream",
     "text": [
      "请输入总人数n:5\n",
      "请输入退圈的报数数字m:3\n",
      "最终的退圈顺序为：\n",
      " [3, 1, 5, 2, 4]\n"
     ]
    }
   ],
   "source": [
    "\"\"\"\n",
    "算法思想：刚开始把所有的人放到一个列表里面去，不是退圈的报数数字就把这个人放到列表的最后\n",
    "一个位置上面去，如果是退圈的报数数字就把这个数字从列表中去掉。直到列表剩下最后一个人为止\n",
    "\"\"\"\n",
    "def josephus():\n",
    "    #n代表总人数，k代表退圈的报数数字\n",
    "    n=int(input(\"请输入总人数n:\"))\n",
    "    m=int(input(\"请输入退圈的报数数字m:\"))\n",
    "    l1 = list(range(1,n+1))  #将所有人放入列表\n",
    "    l2=[]                    #设置一个空列表，用来存放退圈的顺序\n",
    "    index = 0                #设置计数器，以便测试是否到达退圈的报数数字\n",
    "    while l1:\n",
    "        temp = l1.pop(0)\n",
    "        index += 1\n",
    "        if index == m:       #如果计数器到达退圈的报数数字，L2列表便增加该元素，并将计数器归0\n",
    "            l2.append(temp)\n",
    "            index = 0\n",
    "            continue\n",
    "        l1.append(temp)    #将这个人放到列表的最后一个位置上\n",
    "        if len(l1)==1:    #如果列表只剩下最后一个元素，则运算停止，输出L2，退圈的顺序\n",
    "            l2.append(l1[0])\n",
    "            return l2\n",
    "            break\n",
    "\n",
    "print(\"最终的退圈顺序为：\\n\",josephus())\n"
   ]
  },
  {
   "cell_type": "code",
   "execution_count": null,
   "metadata": {},
   "outputs": [],
   "source": []
  }
 ],
 "metadata": {
  "kernelspec": {
   "display_name": "Python 3",
   "language": "python",
   "name": "python3"
  },
  "language_info": {
   "codemirror_mode": {
    "name": "ipython",
    "version": 3
   },
   "file_extension": ".py",
   "mimetype": "text/x-python",
   "name": "python",
   "nbconvert_exporter": "python",
   "pygments_lexer": "ipython3",
   "version": "3.7.3"
  },
  "toc": {
   "base_numbering": 1,
   "nav_menu": {},
   "number_sections": true,
   "sideBar": true,
   "skip_h1_title": false,
   "title_cell": "Table of Contents",
   "title_sidebar": "Contents",
   "toc_cell": false,
   "toc_position": {},
   "toc_section_display": true,
   "toc_window_display": false
  }
 },
 "nbformat": 4,
 "nbformat_minor": 2
}
