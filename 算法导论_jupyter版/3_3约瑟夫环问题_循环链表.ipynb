{
 "cells": [
  {
   "cell_type": "code",
   "execution_count": 15,
   "metadata": {
    "ExecuteTime": {
     "end_time": "2020-03-25T14:34:10.557884Z",
     "start_time": "2020-03-25T14:34:08.332355Z"
    }
   },
   "outputs": [
    {
     "name": "stdout",
     "output_type": "stream",
     "text": [
      "请输入退圈数字:4\n",
      "退圈顺序为:\n",
      "Jane\n",
      "David\n",
      "Bill\n",
      "Susan\n",
      "Brad\n",
      "Kent\n"
     ]
    }
   ],
   "source": [
    "#循环链表解决约瑟夫问题\n",
    "class ListNode:\n",
    "    def __init__(self, data):\n",
    "        self.data = data\n",
    "        self.next = None\n",
    "\n",
    "class LoopLinkedList:\n",
    "    def __init__(self):\n",
    "        self.root = None\n",
    "\n",
    "    # 在循环链表尾部添加节点，尾部即头结点上一个\n",
    "    def addNode(self, data):\n",
    "        newNode = ListNode(data)\n",
    "        if self.root==None:\n",
    "            self.root = newNode\n",
    "        else:\n",
    "            cursor = self.root\n",
    "            while cursor.next!= self.root:\n",
    "                cursor = cursor.next\n",
    "            cursor.next = newNode\n",
    "        newNode.next=self.root      #链接成环\n",
    "\n",
    "    #链表长度\n",
    "    def size(self):\n",
    "        if self.root == None:\n",
    "            return 0\n",
    "        cursor = self.root\n",
    "        i=1\n",
    "        while cursor.next != self.root:\n",
    "            i+=1\n",
    "            cursor = cursor.next\n",
    "        return i\n",
    "\n",
    "#约瑟夫问题仿真函数\n",
    "def circle(num,nameList):\n",
    "    linkedList=LoopLinkedList()\n",
    "    #将nameList中的名字加入到循环列表中\n",
    "    for i in range(len(nameList)):\n",
    "        linkedList.addNode(nameList[i])\n",
    "    i=1\n",
    "    pre = linkedList.root\n",
    "    cursor = linkedList.root\n",
    "    while linkedList.size()!=1:\n",
    "        if i!=num:\n",
    "            pre=cursor\n",
    "            cursor=cursor.next\n",
    "            i+=1\n",
    "        else :\n",
    "            print(cursor.data)\n",
    "            pre.next=cursor.next    #删除当前节点需要用上一个节点连接下一个节点\n",
    "            cursor=pre.next\n",
    "            linkedList.root=cursor  #重新选择头结点是为了计算链表长度\n",
    "            i=1\n",
    "    return cursor.data\n",
    "\n",
    "#主函数\n",
    "if __name__=='__main__':\n",
    "    num=int(input('请输入退圈数字:'))\n",
    "    nameList=[\"Bill\",\"David\",\"Susan\",\"Jane\",\"Kent\",\"Brad\"]\n",
    "    print('退圈顺序为:')\n",
    "    print(circle(num,nameList))"
   ]
  },
  {
   "cell_type": "code",
   "execution_count": 2,
   "metadata": {
    "ExecuteTime": {
     "end_time": "2020-03-26T00:42:29.295509Z",
     "start_time": "2020-03-26T00:42:29.285534Z"
    }
   },
   "outputs": [
    {
     "name": "stdout",
     "output_type": "stream",
     "text": [
      "Help on built-in function reduce in module _functools:\n",
      "\n",
      "reduce(...)\n",
      "    reduce(function, sequence[, initial]) -> value\n",
      "    \n",
      "    Apply a function of two arguments cumulatively to the items of a sequence,\n",
      "    from left to right, so as to reduce the sequence to a single value.\n",
      "    For example, reduce(lambda x, y: x+y, [1, 2, 3, 4, 5]) calculates\n",
      "    ((((1+2)+3)+4)+5).  If initial is present, it is placed before the items\n",
      "    of the sequence in the calculation, and serves as a default when the\n",
      "    sequence is empty.\n",
      "\n"
     ]
    }
   ],
   "source": [
    "from functools import reduce\n",
    "help(reduce)"
   ]
  },
  {
   "cell_type": "code",
   "execution_count": null,
   "metadata": {},
   "outputs": [],
   "source": []
  }
 ],
 "metadata": {
  "kernelspec": {
   "display_name": "Python 3",
   "language": "python",
   "name": "python3"
  },
  "language_info": {
   "codemirror_mode": {
    "name": "ipython",
    "version": 3
   },
   "file_extension": ".py",
   "mimetype": "text/x-python",
   "name": "python",
   "nbconvert_exporter": "python",
   "pygments_lexer": "ipython3",
   "version": "3.7.3"
  },
  "toc": {
   "base_numbering": 1,
   "nav_menu": {},
   "number_sections": true,
   "sideBar": true,
   "skip_h1_title": false,
   "title_cell": "Table of Contents",
   "title_sidebar": "Contents",
   "toc_cell": false,
   "toc_position": {},
   "toc_section_display": true,
   "toc_window_display": false
  }
 },
 "nbformat": 4,
 "nbformat_minor": 2
}
