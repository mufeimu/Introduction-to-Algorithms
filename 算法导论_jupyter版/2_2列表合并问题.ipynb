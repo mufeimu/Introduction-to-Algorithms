{
 "cells": [
  {
   "cell_type": "code",
   "execution_count": 2,
   "metadata": {
    "ExecuteTime": {
     "end_time": "2020-03-14T15:12:04.815096Z",
     "start_time": "2020-03-14T15:12:04.801133Z"
    }
   },
   "outputs": [
    {
     "name": "stdout",
     "output_type": "stream",
     "text": [
      "[2, 3, 5, 6, 7, 7, 16, 18, 21]\n"
     ]
    }
   ],
   "source": [
    "def MergeList(l1,l2):                               #定义一个合并列表的函数\n",
    "    l3 = [' ' for i in range(len(l1)+len(l2))]     #构建一个长度为两个列表长度之和的新列表l3，l3列表里全是空格元素\n",
    "    i=j=0\n",
    "    k=0\n",
    "    while(i<=len(l1)-1 and j<=len(l2)-1):       # 分别设置l1和l2的指针为i,j，当指针小于l1和l2的列表长度时才执行\n",
    "        if l1[i]<=l2[j]:                         #将l1和l2中较小的值放入l3中\n",
    "            l3[k]=l1[i]\n",
    "            i+=1\n",
    "            k+=1\n",
    "        else:\n",
    "            l3[k]=l2[j]\n",
    "            j=j+1\n",
    "            k=k+1\n",
    "    while i<=len(l1)-1:                       #如果l1未比较完，将l1剩下的全部放入l3\n",
    "            l3[k]=l1[i]\n",
    "            i=i+1\n",
    "            k=k+1\n",
    "    while j<=len(l2)-1:                      #如果l2未比较完，将l1剩下的全部放入l3\n",
    "        l3[k]=l2[j]\n",
    "        j=j+1\n",
    "        k=k+1\n",
    "    return l3\n",
    "l1=[3,5,7,16]\n",
    "l2=[2,6,7,18,21]\n",
    "print(MergeList(l1,l2))"
   ]
  },
  {
   "cell_type": "code",
   "execution_count": null,
   "metadata": {},
   "outputs": [],
   "source": []
  }
 ],
 "metadata": {
  "kernelspec": {
   "display_name": "Python 3",
   "language": "python",
   "name": "python3"
  },
  "language_info": {
   "codemirror_mode": {
    "name": "ipython",
    "version": 3
   },
   "file_extension": ".py",
   "mimetype": "text/x-python",
   "name": "python",
   "nbconvert_exporter": "python",
   "pygments_lexer": "ipython3",
   "version": "3.7.3"
  },
  "toc": {
   "base_numbering": 1,
   "nav_menu": {},
   "number_sections": true,
   "sideBar": true,
   "skip_h1_title": false,
   "title_cell": "Table of Contents",
   "title_sidebar": "Contents",
   "toc_cell": false,
   "toc_position": {},
   "toc_section_display": true,
   "toc_window_display": false
  }
 },
 "nbformat": 4,
 "nbformat_minor": 2
}
