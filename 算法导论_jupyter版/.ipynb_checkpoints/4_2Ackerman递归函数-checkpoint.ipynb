{
 "cells": [
  {
   "cell_type": "code",
   "execution_count": 35,
   "metadata": {
    "ExecuteTime": {
     "end_time": "2020-03-31T14:56:25.510438Z",
     "start_time": "2020-03-31T14:56:25.495479Z"
    }
   },
   "outputs": [
    {
     "name": "stdout",
     "output_type": "stream",
     "text": [
      "13\n",
      "125\n"
     ]
    }
   ],
   "source": [
    "##递归方法实现Ackman函数\n",
    "def Ackerman(m,n):\n",
    "    if m==0:\n",
    "        return n+1\n",
    "    elif n==0:\n",
    "        r=Ackerman(m-1,1)\n",
    "        return r\n",
    "    else:\n",
    "        r=Ackerman(m-1,Ackerman(m,n-1))\n",
    "        return r\n",
    "print(Ackerman(4,0))\n",
    "print(Ackerman(3,4))"
   ]
  },
  {
   "cell_type": "code",
   "execution_count": 5,
   "metadata": {
    "ExecuteTime": {
     "end_time": "2020-04-13T03:04:21.733803Z",
     "start_time": "2020-04-13T03:04:21.704853Z"
    }
   },
   "outputs": [
    {
     "name": "stdout",
     "output_type": "stream",
     "text": [
      "Ackerman(3,4)= 125\n"
     ]
    }
   ],
   "source": [
    "\"\"\"\n",
    "非递归方法实现Ackman函数\n",
    "\"\"\"\n",
    "class SStack(object):\n",
    "    #初始化栈为空列表\n",
    "    def __init__(self):\n",
    "        self.items=[]\n",
    "    #判断栈是否为空，返回布尔值\n",
    "    def is_empty(self):\n",
    "        return self.items==[]\n",
    "    #返回栈顶元素\n",
    "    def peek(self):\n",
    "        return self.items[len(self.items)-1]\n",
    "    #输出栈内容并返回栈的大小\n",
    "    def deep(self):\n",
    "        return len(self.items)\n",
    "    #把新的元素堆进栈里\n",
    "    def push(self,data):\n",
    "        return self.items.append(data)\n",
    "    #把栈顶元素弹出\n",
    "    def pop(self):\n",
    "        return self.items.pop()\n",
    "def Ackerman_stack(m,n):\n",
    "    st1=SStack()\n",
    "    st2=SStack()\n",
    "    st1.push(m)\n",
    "    st2.push(n)\n",
    "    while m!=0:\n",
    "        if n!=0:           ##当m!=0以及n!=0时\n",
    "            st1.push(m)\n",
    "            n-=1\n",
    "            st2.push(n)\n",
    "        elif n==0:        ##当m!=0以及n==0时\n",
    "            m=st1.pop()-1\n",
    "            n=1\n",
    "            st2.pop()\n",
    "            st1.push(m)\n",
    "            st2.push(1)\n",
    "        while m==0 and st2.deep()>1:   ##当m==0时\n",
    "            st1.pop()\n",
    "            n=st2.pop()\n",
    "            m=st1.pop()\n",
    "            st2.pop()\n",
    "            m-=1\n",
    "            n+=1\n",
    "            st1.push(m)\n",
    "            st2.push(n)\n",
    "    return (st2.pop() + 1)\n",
    "print('Ackerman(3,4)=',Ackerman_stack(3,4))"
   ]
  },
  {
   "cell_type": "code",
   "execution_count": 4,
   "metadata": {
    "ExecuteTime": {
     "end_time": "2020-04-13T03:04:09.312001Z",
     "start_time": "2020-04-13T03:04:09.285073Z"
    }
   },
   "outputs": [
    {
     "name": "stdout",
     "output_type": "stream",
     "text": [
      "m!=0的m: 1\n",
      "m!=0的n: 0\n",
      "1: [1, 1]\n",
      "1: [1, 0]\n",
      "n==0的m: 0\n",
      "n==0的n: 1\n",
      "2: [1, 0]\n",
      "2: [1, 1]\n",
      "最后的m: 0\n",
      "最后的n: 2\n",
      "3: [0]\n",
      "3: [2]\n",
      "3\n"
     ]
    }
   ],
   "source": [
    "\"\"\"\n",
    "非递归方法实现Ackman函数\n",
    "\"\"\"\n",
    "class SStack(object):\n",
    "    #初始化栈为空列表\n",
    "    def __init__(self):\n",
    "        self.items=[]\n",
    "    #判断栈是否为空，返回布尔值\n",
    "    def is_empty(self):\n",
    "        return self.items==[]\n",
    "    #输出栈内容\n",
    "    def content(self):\n",
    "        #print (self.items)\n",
    "        return self.items\n",
    "    #返回栈顶元素\n",
    "    def peek(self):\n",
    "        return self.items[len(self.items)-1]\n",
    "    #输出栈内容并返回栈的大小\n",
    "    def deep(self):\n",
    "        return len(self.items)\n",
    "    #把新的元素堆进栈里\n",
    "    def push(self,data):\n",
    "        return self.items.append(data)\n",
    "    #把栈顶元素弹出\n",
    "    def pop(self):\n",
    "        return self.items.pop()\n",
    "def Ackerman_stack(m,n):\n",
    "    st1 = SStack()\n",
    "    st2 = SStack()\n",
    "    st1.push(m)\n",
    "    st2.push(n)\n",
    "    \n",
    "    while m != 0:\n",
    "        if n != 0:\n",
    "            st1.push(m)\n",
    "            print('m!=0的m:',m)\n",
    "            n -= 1\n",
    "            print('m!=0的n:',n)\n",
    "            st2.push(n)\n",
    "            print('1:',st1.content())\n",
    "            print('1:',st2.content())\n",
    "        elif n == 0:\n",
    "            m = st1.pop() - 1\n",
    "            print('n==0的m:',m)\n",
    "            n = 1\n",
    "            st2.pop()\n",
    "            st1.push(m)\n",
    "            st2.push(1)\n",
    "            print('n==0的n:',n)\n",
    "            print('2:',st1.content())\n",
    "            print('2:',st2.content())\n",
    "        while m==0 and st2.deep()> 1:\n",
    "            st1.pop()\n",
    "            n = st2.pop()\n",
    "            m = st1.pop()\n",
    "            st2.pop()\n",
    "            m -= 1\n",
    "            n += 1\n",
    "            print('最后的m:',m)\n",
    "            print('最后的n:',n)\n",
    "            st1.push(m)\n",
    "            st2.push(n)\n",
    "            print('3:',st1.content())\n",
    "            print('3:',st2.content())\n",
    "            \n",
    "    return (st2.pop() + 1)\n",
    "print(Ackerman_stack(1,1))"
   ]
  }
 ],
 "metadata": {
  "kernelspec": {
   "display_name": "Python 3",
   "language": "python",
   "name": "python3"
  },
  "language_info": {
   "codemirror_mode": {
    "name": "ipython",
    "version": 3
   },
   "file_extension": ".py",
   "mimetype": "text/x-python",
   "name": "python",
   "nbconvert_exporter": "python",
   "pygments_lexer": "ipython3",
   "version": "3.7.3"
  },
  "toc": {
   "base_numbering": 1,
   "nav_menu": {},
   "number_sections": true,
   "sideBar": true,
   "skip_h1_title": false,
   "title_cell": "Table of Contents",
   "title_sidebar": "Contents",
   "toc_cell": false,
   "toc_position": {},
   "toc_section_display": true,
   "toc_window_display": false
  }
 },
 "nbformat": 4,
 "nbformat_minor": 2
}
