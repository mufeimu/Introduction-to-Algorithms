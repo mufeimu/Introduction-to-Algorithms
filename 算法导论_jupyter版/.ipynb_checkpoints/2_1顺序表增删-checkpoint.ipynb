{
 "cells": [
  {
   "cell_type": "code",
   "execution_count": 1,
   "metadata": {
    "ExecuteTime": {
     "end_time": "2020-03-14T15:06:44.340864Z",
     "start_time": "2020-03-14T15:06:29.853701Z"
    }
   },
   "outputs": [
    {
     "name": "stdout",
     "output_type": "stream",
     "text": [
      "请输入（按回车键确认并继续输入，按#键结束）：4\n",
      "请输入（按回车键确认并继续输入，按#键结束）：g\n",
      "请输入（按回车键确认并继续输入，按#键结束）：d\n",
      "请输入（按回车键确认并继续输入，按#键结束）：5\n",
      "请输入（按回车键确认并继续输入，按#键结束）：6\n",
      "请输入（按回车键确认并继续输入，按#键结束）：#\n",
      "顺序表初始化为: ['4', 'g', 'd', '5', '6']\n",
      "请输入要插入的位置:2\n",
      "请输入要插入的值:e\n",
      "插入前顺序表为：\n",
      " ['4', 'g', 'd', '5', '6']\n",
      "插入后的顺序表：\n",
      " ['4', 'e', 'g', 'd', '5', '6']\n",
      "请输入要删除的位置:4\n",
      "删除前顺序表为：\n",
      " ['4', 'e', 'g', 'd', '5', '6']\n",
      "删除后的顺序表：\n",
      " ['4', 'e', 'g', '5', '6']\n",
      "该顺序表的内容为: ['4', 'e', 'g', '5', '6']\n",
      "该顺序表的长度为: 5\n"
     ]
    }
   ],
   "source": [
    "class SqList:\n",
    "    def __init__(self):\n",
    "        self.SqList=[]\n",
    "    def CreateSqList(self):\n",
    "        Element = input(\"请输入（按回车键确认并继续输入，按#键结束）：\")\n",
    "        while Element !='#':\n",
    "            self.SqList.append(Element)\n",
    "            Element=input(\"请输入（按回车键确认并继续输入，按#键结束）：\")\n",
    "        return self.SqList\n",
    "    def ListInsert(self):\n",
    "        pos=int(input(\"请输入要插入的位置:\"))\n",
    "        key=input(\"请输入要插入的值:\")\n",
    "        print('插入前顺序表为：\\n',self.SqList)\n",
    "        if pos < len(self.SqList) and pos >= 0:\n",
    "            self.SqList.insert(pos-1,key)\n",
    "            return self.SqList\n",
    "        else:\n",
    "            print('错误！插入位置要在列表长度之内哦！！！')   \n",
    "    def ListDelete(self):\n",
    "        pos=int(input(\"请输入要删除的位置:\"))\n",
    "        print('删除前顺序表为：\\n',self.SqList)\n",
    "        if pos < len(self.SqList) and pos >= 0:\n",
    "            del self.SqList[pos-1]\n",
    "            return self.SqList\n",
    "        else:\n",
    "            print('错误！删除位置要在列表长度之内哦！！！') \n",
    "    def length(self):\n",
    "        return len(self.SqList)\n",
    "    def content(self):\n",
    "        return self.SqList\n",
    "list_1 = SqList()\n",
    "print('顺序表初始化为:',list_1.CreateSqList())\n",
    "print('插入后的顺序表：\\n',list_1.ListInsert())\n",
    "print('删除后的顺序表：\\n',list_1.ListDelete())\n",
    "print(\"该顺序表的内容为:\",list_1.content())\n",
    "print(\"该顺序表的长度为:\",list_1.length())"
   ]
  },
  {
   "cell_type": "code",
   "execution_count": null,
   "metadata": {},
   "outputs": [],
   "source": []
  }
 ],
 "metadata": {
  "kernelspec": {
   "display_name": "Python 3",
   "language": "python",
   "name": "python3"
  },
  "language_info": {
   "codemirror_mode": {
    "name": "ipython",
    "version": 3
   },
   "file_extension": ".py",
   "mimetype": "text/x-python",
   "name": "python",
   "nbconvert_exporter": "python",
   "pygments_lexer": "ipython3",
   "version": "3.7.3"
  },
  "toc": {
   "base_numbering": 1,
   "nav_menu": {},
   "number_sections": true,
   "sideBar": true,
   "skip_h1_title": false,
   "title_cell": "Table of Contents",
   "title_sidebar": "Contents",
   "toc_cell": false,
   "toc_position": {},
   "toc_section_display": true,
   "toc_window_display": false
  }
 },
 "nbformat": 4,
 "nbformat_minor": 2
}
