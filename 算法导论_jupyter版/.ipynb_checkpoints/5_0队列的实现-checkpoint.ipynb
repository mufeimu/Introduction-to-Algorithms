{
 "cells": [
  {
   "cell_type": "markdown",
   "metadata": {},
   "source": [
    "# 链队列"
   ]
  },
  {
   "cell_type": "code",
   "execution_count": 55,
   "metadata": {
    "ExecuteTime": {
     "end_time": "2020-04-07T08:18:08.451047Z",
     "start_time": "2020-04-07T08:18:08.432096Z"
    }
   },
   "outputs": [
    {
     "name": "stdout",
     "output_type": "stream",
     "text": [
      "队列的大小: 5\n",
      "出队列的头元素 h\n",
      "出队列的头元素 a\n",
      "出队列的头元素 c\n",
      "出队列的头元素 d\n",
      "出队列的头元素 e\n",
      "队列的大小 0\n",
      "队列是否为空 True\n",
      "出队列的头元素 The Queue is empty!\n"
     ]
    }
   ],
   "source": [
    "class LNode(object):\n",
    "    def __init__(self,data):\n",
    "        self.data=data\n",
    "        self.next=None \n",
    "class LQueue(object):\n",
    "    def __init__(self):\n",
    "        self.node=LNode(None)\n",
    "        self.head=self.node\n",
    "        self.rear=self.node\n",
    "        self.size=0\n",
    "    def is_empty(self):\n",
    "        return self.size==0\n",
    "    def get_size(self):\n",
    "        return self.size\n",
    "    def enqueue(self,data):\n",
    "        p=LNode(data)\n",
    "        p.next=None\n",
    "        self.rear.next=p\n",
    "        self.rear=p\n",
    "        self.size=self.size+1\n",
    "    def dequeue(self):\n",
    "        if self.rear==self.head:\n",
    "            return 'The Queue is empty!'\n",
    "        x=self.head.next.data\n",
    "        self.head=self.head.next\n",
    "        self.size=self.size-1\n",
    "        return x\n",
    "    def top(self):\n",
    "        if not self.is_empty():\n",
    "            return size.head.next.data\n",
    "        else:\n",
    "            print('queue is empty')\n",
    "s=LQueue()\n",
    "s.enqueue('h')\n",
    "s.enqueue('a')\n",
    "s.enqueue('c')\n",
    "s.enqueue('d')\n",
    "s.enqueue('e')\n",
    "print('队列的大小:',s.get_size())\n",
    "print('出队列的头元素',s.dequeue())\n",
    "print('出队列的头元素',s.dequeue())\n",
    "print('出队列的头元素',s.dequeue())\n",
    "print('出队列的头元素',s.dequeue())\n",
    "print('出队列的头元素',s.dequeue())\n",
    "print('队列的大小',s.get_size())\n",
    "print('队列是否为空',s.is_empty())\n",
    "print('出队列的头元素',s.dequeue())\n"
   ]
  },
  {
   "cell_type": "markdown",
   "metadata": {},
   "source": [
    "# 顺序队列"
   ]
  },
  {
   "cell_type": "code",
   "execution_count": 53,
   "metadata": {
    "ExecuteTime": {
     "end_time": "2020-04-07T08:06:40.144444Z",
     "start_time": "2020-04-07T08:06:40.124501Z"
    }
   },
   "outputs": [
    {
     "name": "stdout",
     "output_type": "stream",
     "text": [
      "队列的大小 5\n",
      "现有队列 ['a', 'c', 'b', 'd']\n",
      "现有队列 ['c', 'b', 'd']\n",
      "现有队列 ['b', 'd']\n",
      "现有队列 ['d']\n",
      "现有队列 []\n",
      "队列的大小 0\n",
      "队列是否为空 True\n",
      "现有队列 ('The Queue is empty!', [])\n"
     ]
    }
   ],
   "source": [
    "class Queue(object):\n",
    "    def __init__(self):\n",
    "        self.Queue=[]\n",
    "    def is_empty(self):\n",
    "        return len(self.Queue)==0\n",
    "    def append(self,data):\n",
    "        self.Queue.append(data)\n",
    "    def delete(self):\n",
    "        if len(self.Queue)==0:\n",
    "            return 'The Queue is empty!',self.Queue\n",
    "        else:\n",
    "            del self.Queue[0]\n",
    "            return self.Queue\n",
    "    def get_size(self):\n",
    "        return len(self.Queue)\n",
    "    def read(self):\n",
    "        return self.Queue\n",
    "    \n",
    "l1=Queue()\n",
    "l1.append('h')\n",
    "l1.append('a')\n",
    "l1.append('c')\n",
    "l1.append('b')\n",
    "l1.append('d')\n",
    "\n",
    "print('队列的大小',l1.get_size())\n",
    "print('现有队列',l1.delete())\n",
    "print('现有队列',l1.delete())\n",
    "print('现有队列',l1.delete())\n",
    "print('现有队列',l1.delete())\n",
    "print('现有队列',l1.delete())\n",
    "print('队列的大小',l1.get_size())\n",
    "print('队列是否为空',l1.is_empty())\n",
    "print('现有队列',l1.delete())"
   ]
  },
  {
   "cell_type": "markdown",
   "metadata": {},
   "source": [
    "# 循环队列"
   ]
  },
  {
   "cell_type": "code",
   "execution_count": 31,
   "metadata": {
    "ExecuteTime": {
     "end_time": "2020-04-07T15:07:15.591005Z",
     "start_time": "2020-04-07T15:07:15.558093Z"
    }
   },
   "outputs": [
    {
     "name": "stdout",
     "output_type": "stream",
     "text": [
      "该循环队列最大空间为: 5\n",
      "the queue is full\n",
      "队列的大小和内容: (['h', 'a', 'c', 'd'], 4)\n",
      "头元素出队列: h\n",
      "队列的大小和内容: (['a', 'c', 'd'], 3)\n",
      "头元素出队列: a\n",
      "队列的大小和内容: (['c', 'd'], 2)\n",
      "队列是否为空 False\n",
      "头元素出队列: c\n",
      "队列的大小和内容: (['d'], 1)\n",
      "队列是否为空 False\n",
      "头元素出队列: d\n",
      "队列的大小和内容: ([], 0)\n",
      "队列是否为空 True\n",
      "队列的大小和内容: ([1, 0], [2, 3], 4)\n",
      "队列头元素: 1\n"
     ]
    }
   ],
   "source": [
    "class SQueue(object):\n",
    "    def __init__(self):\n",
    "        self.head=0\n",
    "        self.rear=0\n",
    "#         self.MAXQSIZE=MAXQSIZE\n",
    "        self.items=[0]*MAXQSIZE\n",
    "    def is_empty(self):\n",
    "        return self.rear==self.head\n",
    "    #输出队列内容及返回队列大小\n",
    "    def size(self):\n",
    "        if self.rear>=self.head:\n",
    "#             print(self.items[self.head:self.rear])\n",
    "            return self.items[self.head:self.rear],len(self.items[self.head:self.rear])\n",
    "        else:\n",
    "#             print(self.items[self.head:],self.items[:self.rear])\n",
    "            return self.items[self.head:],self.items[:self.rear],len(self.items[self.head:]+self.items[:self.rear])\n",
    "    def enqueue(self,item):\n",
    "        if int(self.rear+1)%MAXQSIZE==self.head: #判断队列是否满\n",
    "            print('the queue is full')\n",
    "            return\n",
    "        self.items[self.rear]=item\n",
    "        self.rear=int(self.rear+1)%MAXQSIZE #队尾指针后移\n",
    "    def dequeue(self):\n",
    "        if self.rear==self.head: #判断队列是否空\n",
    "#             print('the queue is empty')\n",
    "            return 'the queue is empty'\n",
    "        e=self.items[self.head]\n",
    "        self.head=int(self.head+1)%MAXQSIZE #对头指针后移\n",
    "        return e \n",
    "    def peek(self):\n",
    "        return self.items[self.head]\n",
    "if __name__=='__main__':\n",
    "    #初始化一个队列对象\n",
    "    MAXQSIZE=5\n",
    "    my_Queue=SQueue()\n",
    "    print('该循环队列最大空间为:',MAXQSIZE)\n",
    "    my_Queue.enqueue('h')\n",
    "    my_Queue.enqueue('a')\n",
    "    my_Queue.enqueue('c')\n",
    "    my_Queue.enqueue('d')\n",
    "    my_Queue.enqueue('e')\n",
    "    print('队列的大小和内容:',my_Queue.size())\n",
    "    print('头元素出队列:',my_Queue.dequeue())\n",
    "    print('队列的大小和内容:',my_Queue.size())\n",
    "    print('头元素出队列:',my_Queue.dequeue())\n",
    "    print('队列的大小和内容:',my_Queue.size())\n",
    "    print('队列是否为空',my_Queue.is_empty())\n",
    "    print('头元素出队列:',my_Queue.dequeue())\n",
    "    print('队列的大小和内容:',my_Queue.size())\n",
    "    print('队列是否为空',my_Queue.is_empty())\n",
    "    print('头元素出队列:',my_Queue.dequeue())\n",
    "    print('队列的大小和内容:',my_Queue.size())\n",
    "    print('队列是否为空',my_Queue.is_empty())\n",
    "    my_Queue.enqueue(1)\n",
    "    my_Queue.enqueue(2)\n",
    "    my_Queue.enqueue(3)\n",
    "    print('队列的大小和内容:',my_Queue.size())\n",
    "    print('队列头元素:',my_Queue.peek())"
   ]
  },
  {
   "cell_type": "code",
   "execution_count": null,
   "metadata": {},
   "outputs": [],
   "source": []
  }
 ],
 "metadata": {
  "kernelspec": {
   "display_name": "Python 3",
   "language": "python",
   "name": "python3"
  },
  "toc": {
   "base_numbering": 1,
   "nav_menu": {},
   "number_sections": true,
   "sideBar": true,
   "skip_h1_title": false,
   "title_cell": "Table of Contents",
   "title_sidebar": "Contents",
   "toc_cell": false,
   "toc_position": {},
   "toc_section_display": true,
   "toc_window_display": false
  }
 },
 "nbformat": 4,
 "nbformat_minor": 2
}
