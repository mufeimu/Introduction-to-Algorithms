{
 "cells": [
  {
   "cell_type": "markdown",
   "metadata": {},
   "source": [
    "# 顺序表类"
   ]
  },
  {
   "cell_type": "code",
   "execution_count": 2,
   "metadata": {
    "ExecuteTime": {
     "end_time": "2020-03-14T14:14:32.027228Z",
     "start_time": "2020-03-14T14:14:22.613636Z"
    }
   },
   "outputs": [
    {
     "name": "stdout",
     "output_type": "stream",
     "text": [
      "请输入（按回车键确认并继续输入，按#键结束）：1\n",
      "请输入（按回车键确认并继续输入，按#键结束）：2\n",
      "请输入（按回车键确认并继续输入，按#键结束）：3\n",
      "请输入（按回车键确认并继续输入，按#键结束）：4\n",
      "请输入（按回车键确认并继续输入，按#键结束）：5\n",
      "请输入（按回车键确认并继续输入，按#键结束）：#\n",
      "顺序表初始化为: ['1', '2', '3', '4', '5']\n",
      "请输入要插入的位置:1\n",
      "请输入要插入的值:e\n",
      "插入前顺序表为：\n",
      " ['1', '2', '3', '4', '5']\n",
      "插入后的顺序表：\n",
      " ['e', '1', '2', '3', '4', '5']\n",
      "请输入要删除的位置:3\n",
      "删除前顺序表为：\n",
      " ['e', '1', '2', '3', '4', '5']\n",
      "删除后的顺序表：\n",
      " ['e', '1', '3', '4', '5']\n",
      "该顺序表的内容为: ['e', '1', '3', '4', '5']\n",
      "该顺序表的长度为: 5\n"
     ]
    }
   ],
   "source": [
    "class SqList:\n",
    "    def __init__(self):\n",
    "        self.SqList=[]\n",
    "    def CreateSqList(self):\n",
    "        Element = input(\"请输入（按回车键确认并继续输入，按#键结束）：\")\n",
    "        while Element !='#':\n",
    "            self.SqList.append(Element)\n",
    "            Element=input(\"请输入（按回车键确认并继续输入，按#键结束）：\")\n",
    "        return self.SqList\n",
    "    def ListInsert(self):\n",
    "        pos=int(input(\"请输入要插入的位置:\"))\n",
    "        key=input(\"请输入要插入的值:\")\n",
    "        print('插入前顺序表为：\\n',self.SqList)\n",
    "        if pos < len(self.SqList) and pos >= 0:\n",
    "            self.SqList.insert(pos-1,key)\n",
    "            return self.SqList\n",
    "        else:\n",
    "            print('错误！插入位置要在列表长度之内哦！！！')   \n",
    "    def ListDelete(self):\n",
    "        pos=int(input(\"请输入要删除的位置:\"))\n",
    "        print('删除前顺序表为：\\n',self.SqList)\n",
    "        if pos < len(self.SqList) and pos >= 0:\n",
    "            del self.SqList[pos-1]\n",
    "            return self.SqList\n",
    "        else:\n",
    "            print('错误！删除位置要在列表长度之内哦！！！') \n",
    "    def length(self):\n",
    "        return len(self.SqList)\n",
    "    def content(self):\n",
    "        return self.SqList\n",
    "list_1 = SqList()\n",
    "print('顺序表初始化为:',list_1.CreateSqList())\n",
    "print('插入后的顺序表：\\n',list_1.ListInsert())\n",
    "print('删除后的顺序表：\\n',list_1.ListDelete())\n",
    "print(\"该顺序表的内容为:\",list_1.content())\n",
    "print(\"该顺序表的长度为:\",list_1.length())"
   ]
  },
  {
   "cell_type": "markdown",
   "metadata": {},
   "source": [
    "# 列表合并问题"
   ]
  },
  {
   "cell_type": "code",
   "execution_count": 20,
   "metadata": {
    "ExecuteTime": {
     "end_time": "2020-03-14T15:04:19.206332Z",
     "start_time": "2020-03-14T15:04:19.191374Z"
    }
   },
   "outputs": [
    {
     "name": "stdout",
     "output_type": "stream",
     "text": [
      "[2, 3, 5, 6, 7, 7, 16, 18, 21]\n"
     ]
    }
   ],
   "source": [
    "def MergeList(l1,l2):                     #定义一个合并列表的函数\n",
    "    l3 = [' ' for i in range(len(l1)+len(l2))]     #构建一个长度为两个列表长度之和的新列表l3，l3列表里全是空格元素\n",
    "    i=j=0\n",
    "    k=0\n",
    "    while(i<=len(l1)-1 and j<=len(l2)-1):       \n",
    "        if l1[i]<=l2[j]:\n",
    "            l3[k]=l1[i]\n",
    "            i+=1\n",
    "            k+=1\n",
    "        else:\n",
    "            l3[k]=l2[j]\n",
    "            j=j+1\n",
    "            k=k+1\n",
    "    while i<=len(l1)-1:\n",
    "            l3[k]=l1[i]\n",
    "            i=i+1\n",
    "            k=k+1\n",
    "    while j<=len(l2)-1:\n",
    "        l3[k]=l2[j]\n",
    "        j=j+1\n",
    "        k=k+1\n",
    "    return l3\n",
    "l1=[3,5,7,16]\n",
    "l2=[2,6,7,18,21]\n",
    "print(MergeList(l1,l2))"
   ]
  },
  {
   "cell_type": "markdown",
   "metadata": {},
   "source": [
    "# 约瑟夫环问题"
   ]
  },
  {
   "cell_type": "code",
   "execution_count": 23,
   "metadata": {
    "ExecuteTime": {
     "end_time": "2020-03-14T15:05:10.112625Z",
     "start_time": "2020-03-14T15:05:07.607862Z"
    }
   },
   "outputs": [
    {
     "name": "stdout",
     "output_type": "stream",
     "text": [
      "请输入总人数n:5\n",
      "请输入退圈的报数数字m:3\n",
      "最终的退圈顺序为：\n",
      " [3, 1, 5, 2, 4]\n"
     ]
    }
   ],
   "source": [
    "\"\"\"\n",
    "算法思想：刚开始把所有的人放到一个列表里面去，不是退圈的报数数字就把这个人放到列表的最后\n",
    "一个位置上面去，如果是退圈的报数数字就把这个数字从列表中去掉。直到列表剩下最后一个人为止\n",
    "\"\"\"\n",
    "def josephus():\n",
    "    #n代表总人数，k代表退圈的报数数字\n",
    "    n=int(input(\"请输入总人数n:\"))\n",
    "    m=int(input(\"请输入退圈的报数数字m:\"))\n",
    "    l1 = list(range(1,n+1))  #将所有人放入列表\n",
    "    l2=[]                    #设置一个空列表，用来存放退圈的顺序\n",
    "    index = 0                #设置计数器，以便测试是否到达退圈的报数数字\n",
    "    while l1:\n",
    "        temp = l1.pop(0)\n",
    "        index += 1\n",
    "        if index == m:       #如果计数器到达退圈的报数数字，L2列表便增加该元素，并将计数器归0\n",
    "            l2.append(temp)\n",
    "            index = 0\n",
    "            continue\n",
    "        l1.append(temp)    #将这个人放到列表的最后一个位置上\n",
    "        if len(l1)==1:    #如果列表只剩下最后一个元素，则运算停止，输出L2，退圈的顺序\n",
    "            l2.append(l1[0])\n",
    "            return l2\n",
    "            break\n",
    "\n",
    "print(\"最终的退圈顺序为：\\n\",josephus())\n"
   ]
  },
  {
   "cell_type": "code",
   "execution_count": null,
   "metadata": {},
   "outputs": [],
   "source": []
  }
 ],
 "metadata": {
  "kernelspec": {
   "display_name": "Python 3",
   "language": "python",
   "name": "python3"
  },
  "toc": {
   "base_numbering": 1,
   "nav_menu": {},
   "number_sections": true,
   "sideBar": true,
   "skip_h1_title": false,
   "title_cell": "Table of Contents",
   "title_sidebar": "Contents",
   "toc_cell": false,
   "toc_position": {},
   "toc_section_display": true,
   "toc_window_display": false
  }
 },
 "nbformat": 4,
 "nbformat_minor": 2
}
