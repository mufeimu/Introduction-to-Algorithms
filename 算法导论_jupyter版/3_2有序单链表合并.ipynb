{
 "cells": [
  {
   "cell_type": "code",
   "execution_count": 34,
   "metadata": {
    "ExecuteTime": {
     "end_time": "2020-03-25T13:53:45.202092Z",
     "start_time": "2020-03-25T13:53:45.177156Z"
    }
   },
   "outputs": [
    {
     "name": "stdout",
     "output_type": "stream",
     "text": [
      "<class '__main__.ListNode'>\n",
      "2-->3-->5-->5-->7-->8-->9-->\n"
     ]
    }
   ],
   "source": [
    "# 创建结点类\n",
    "class ListNode(object):\n",
    "    def __init__(self,data):\n",
    "        self.data=data\n",
    "        self.next=None\n",
    "\n",
    "#创建链表类\n",
    "class CreateLinkList(object):\n",
    "    def __init__(self):\n",
    "        self.head=ListNode(None)\n",
    "    #链表初始化函数，将data的值输入到链表中\n",
    "    def initList(self,data):\n",
    "         # 创建头结点\n",
    "        self.head=ListNode(data[0])\n",
    "        p=self.head\n",
    "        for i in data[1:]:\n",
    "            node=ListNode(i)\n",
    "            p.next=node\n",
    "            p=p.next\n",
    "        return self.head#缺失该语句，会造成initList()类型不是链表类型，而是NoneType；链表类型__main__.LNode\n",
    "\n",
    "\n",
    "#遍历链表，输出链表函数\n",
    "def ReadList(L):\n",
    "    p = L\n",
    "    while p:\n",
    "        print(p.data,end=\"-->\")\n",
    "        p=p.next\n",
    "    print('')\n",
    "#有序链表合并函数\n",
    "def MergeList(La,Lb):\n",
    "    pa = La\n",
    "    pb = Lb\n",
    "    if pa.data<= pb.data:\n",
    "        Lc = pc = pa\n",
    "        pa = pa.next \n",
    "    else:\n",
    "        Lc = pc = pb\n",
    "        pb = pb.next\n",
    "    while pa and pb:\n",
    "        if pa.data <= pb.data:\n",
    "            pc.next = pa\n",
    "            pc = pa\n",
    "            pa = pa.next \n",
    "        else:\n",
    "            pc.next = pb \n",
    "            pc = pb\n",
    "            pb = pb.next\n",
    "    if pb:\n",
    "        pc.next = pb\n",
    "    if pa:\n",
    "        pc.next = pa\n",
    "    return Lc  \n",
    "if __name__ == '__main__':\n",
    "    data1=[2,5,8]\n",
    "    data2=[3,5,7,9]\n",
    "    \n",
    "    l=CreateLinkList()\n",
    "    La=l.initList(data1)\n",
    "    Lb=l.initList(data2)\n",
    "    Lc= MergeList(La,Lb)\n",
    "    ReadList(Lc)"
   ]
  }
 ],
 "metadata": {
  "kernelspec": {
   "display_name": "Python 3",
   "language": "python",
   "name": "python3"
  },
  "language_info": {
   "codemirror_mode": {
    "name": "ipython",
    "version": 3
   },
   "file_extension": ".py",
   "mimetype": "text/x-python",
   "name": "python",
   "nbconvert_exporter": "python",
   "pygments_lexer": "ipython3",
   "version": "3.7.3"
  },
  "toc": {
   "base_numbering": 1,
   "nav_menu": {},
   "number_sections": true,
   "sideBar": true,
   "skip_h1_title": false,
   "title_cell": "Table of Contents",
   "title_sidebar": "Contents",
   "toc_cell": false,
   "toc_position": {},
   "toc_section_display": true,
   "toc_window_display": false
  }
 },
 "nbformat": 4,
 "nbformat_minor": 2
}
