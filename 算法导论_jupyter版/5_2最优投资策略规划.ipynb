{
 "cells": [
  {
   "cell_type": "code",
   "execution_count": 2,
   "metadata": {
    "ExecuteTime": {
     "end_time": "2020-04-09T00:37:31.268341Z",
     "start_time": "2020-04-09T00:37:31.023995Z"
    }
   },
   "outputs": [
    {
     "name": "stdout",
     "output_type": "stream",
     "text": [
      "投资收益矩阵：\n",
      " [[1.16100744 1.18183922 1.30790667 1.03256622 1.17083696 1.04103328\n",
      "  0.94585513 1.18690149 1.13044008 1.18366915]\n",
      " [0.96792313 1.03530897 1.0489271  1.11172864 0.97118735 1.13788552\n",
      "  1.12469094 1.12970288 1.05791167 1.0185019 ]\n",
      " [1.06739907 1.12804689 1.06554017 1.04537367 1.15041372 1.12409988\n",
      "  0.91652679 1.10688557 0.97692893 1.16199978]\n",
      " [1.06398643 1.10007646 1.0786595  1.1519315  1.081228   1.03457808\n",
      "  1.02975966 1.13609924 1.08938101 0.98514202]\n",
      " [1.06037036 1.22070249 1.15993077 1.05710037 1.22476991 1.06602574\n",
      "  0.97220442 1.00246407 1.06871442 1.03888132]\n",
      " [1.21070916 1.16372078 1.01121925 1.20188155 1.10048464 1.10378618\n",
      "  1.13909042 1.13408717 1.12172126 1.1808869 ]\n",
      " [1.05058036 1.10156578 0.98520674 1.07499645 1.12999403 1.03114452\n",
      "  1.24027957 1.09258326 1.17700432 1.11395654]\n",
      " [1.09399613 1.149825   1.09333526 1.05779828 1.07259639 1.07960928\n",
      "  1.14672255 1.19940228 1.2013009  1.03103201]]\n",
      "10年最优投资策略:  [5, 4, 0, 5, 4, 1, 6, 7, 0, 0]\n",
      "累计最优投资收益:  [1.2107091577298896, 1.4537015009335483, 1.872231858954212, 2.212756284841906, 2.6658621828135995, 2.9801287351120878, 3.6365902134616865, 4.289002806399887, 5.109492895549114, 5.996854165102604]\n",
      "最终最优收益:  5.996854165102604\n"
     ]
    }
   ],
   "source": [
    "def investment_strategy(R,F1,F2):\n",
    "    Position = np.mat(np.identity(R.shape[0]))##shape[0]为随机矩阵的行数\n",
    "    optimal_path = []     #新建空列表，存放每年选择的最优投资种类\n",
    "    revenue_changes = []  #新建空列表，存放每年结算的最优收益\n",
    "    \n",
    "    #第一年进行投资\n",
    "    optimal_revenue= max(Position.dot(R[:,0]))  #找出第一年各种投资中收益最大的一个\n",
    "    optimal_path.append(np.argmax(Position.dot(R[:,0])))#argmax返回的是最大数的索引，放入路径中\n",
    "    revenue_changes.append(optimal_revenue.item())\n",
    "    \n",
    "    #后续9年的投资情况\n",
    "    for j in range(1, R.shape[1]):  #R.shape[1]表示R矩阵的列数，代表年，一共10年\n",
    "        #分别计算转移投资和不转移投资的收益率情况，y1、y2\n",
    "        y1 = (max(Position.dot(R[:, j])) - F2)\n",
    "        y2 = (Position[optimal_path[j - 1]].dot(R[:, j]) - F1)\n",
    "        if y1 >= y2:   #转移投资收益更大\n",
    "            optimal_path.append(np.argmax(Position.dot(R[:, j])))\n",
    "            optimal_revenue = optimal_revenue * (max(Position.dot(R[:, j])) - F2)\n",
    "            revenue_changes.append(optimal_revenue.item())\n",
    "        else:   #不转移投资收益更大\n",
    "            pass\n",
    "            optimal_path.append(np.argmax(optimal_path[j - 1]))\n",
    "#             print('哈哈哈',optimal_path)\n",
    "            optimal_revenue = optimal_revenue * (Position[optimal_path[j - 1]].dot(R[:, j]) - F1)\n",
    "            revenue_changes.append(optimal_revenue.item())\n",
    "    return optimal_path,revenue_changes,optimal_revenue.item()\n",
    "\n",
    "if __name__=='__main__':\n",
    "    import numpy as np\n",
    "    ###建立一个具有标准正态分布的8种*10年的随机混淆矩阵——收益矩阵;行代表投资种类，列代表年份\n",
    "    R=np.mat(1.1+np.random.randn(8,10)*0.1)     \n",
    "    F1,F2=0.01,0.02\n",
    "    optimal_path,revenue_changes,max_revenue=investment_strategy(R,F1,F2) #调用最优投资策略函数，并获取返回值\n",
    "    print('投资收益矩阵：\\n',R)\n",
    "    print('10年最优投资策略: ',optimal_path)\n",
    "    print('累计最优投资收益: ',revenue_changes)\n",
    "    print('最终最优收益: ',max_revenue)"
   ]
  },
  {
   "cell_type": "code",
   "execution_count": 3,
   "metadata": {
    "ExecuteTime": {
     "end_time": "2020-04-09T00:37:34.595374Z",
     "start_time": "2020-04-09T00:37:34.576427Z"
    }
   },
   "outputs": [
    {
     "data": {
      "text/plain": [
       "matrix([[1., 0., 0., 0., 0., 0., 0., 0.],\n",
       "        [0., 1., 0., 0., 0., 0., 0., 0.],\n",
       "        [0., 0., 1., 0., 0., 0., 0., 0.],\n",
       "        [0., 0., 0., 1., 0., 0., 0., 0.],\n",
       "        [0., 0., 0., 0., 1., 0., 0., 0.],\n",
       "        [0., 0., 0., 0., 0., 1., 0., 0.],\n",
       "        [0., 0., 0., 0., 0., 0., 1., 0.],\n",
       "        [0., 0., 0., 0., 0., 0., 0., 1.]])"
      ]
     },
     "execution_count": 3,
     "metadata": {},
     "output_type": "execute_result"
    }
   ],
   "source": [
    "position=np.mat(np.identity(R.shape[0]))\n",
    "position"
   ]
  }
 ],
 "metadata": {
  "kernelspec": {
   "display_name": "Python 3",
   "language": "python",
   "name": "python3"
  },
  "toc": {
   "base_numbering": 1,
   "nav_menu": {},
   "number_sections": true,
   "sideBar": true,
   "skip_h1_title": false,
   "title_cell": "Table of Contents",
   "title_sidebar": "Contents",
   "toc_cell": false,
   "toc_position": {},
   "toc_section_display": true,
   "toc_window_display": false
  }
 },
 "nbformat": 4,
 "nbformat_minor": 2
}
